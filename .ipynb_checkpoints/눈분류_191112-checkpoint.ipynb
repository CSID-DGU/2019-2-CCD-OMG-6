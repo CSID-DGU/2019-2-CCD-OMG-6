{
 "cells": [
  {
   "cell_type": "code",
   "execution_count": 4,
   "metadata": {},
   "outputs": [],
   "source": [
    "import os\n",
    "import glob\n",
    "import cv2\n"
   ]
  },
  {
   "cell_type": "code",
   "execution_count": null,
   "metadata": {},
   "outputs": [],
   "source": [
    "fpath = \"C:/Users/surfi/Desktop/CNN/image/check/*.jpg\"\n",
    "for fpath in glob.glob(fpath):\n",
    "    fpath_r = fpath.replace('-0','-') #selfie (27).jpg => (27).jpg로 변경\n",
    "    os.rename(fpath, fpath_r)"
   ]
  },
  {
   "cell_type": "code",
   "execution_count": 5,
   "metadata": {},
   "outputs": [],
   "source": [
    "face_cascade = cv2.CascadeClassifier('./haarcascades/haarcascade_frontalface_default.xml')\n",
    "eye1_cascade = cv2.CascadeClassifier('./haarcascades/haarcascade_eye.xml')\n",
    "eye2_cascade = cv2.CascadeClassifier('./haarcascades/haarcascade_eye_tree_eyeglasses.xml')\n",
    "eye3_cascade = cv2.CascadeClassifier('./haarcascades/haarcascade_lefteye_2splits.xml')\n",
    "eye4_cascade = cv2.CascadeClassifier('./haarcascades/haarcascade_righteye_2splits.xml')"
   ]
  },
  {
   "cell_type": "code",
   "execution_count": 121,
   "metadata": {},
   "outputs": [],
   "source": []
  },
  {
   "cell_type": "code",
   "execution_count": 15,
   "metadata": {},
   "outputs": [
    {
     "name": "stdout",
     "output_type": "stream",
     "text": [
      "\n",
      "1 2 3 4 5 6 7 8 9 10 11 12 13 14 \n",
      "15 16 17 18 19 20 21 22 23 24 25 26 27 28 \n",
      "29 30 31 32 33 34 35 36 37 38 39 40 41 42 \n",
      "43 44 45 46 47 48 49 50 51 52 53 54 55 56 \n",
      "57 58 59 60 61 62 63 64 65 66 67 68 69 70 \n",
      "71 72 73 74 75 76 77 78 79 80 81 82 83 84 \n",
      "85 86 87 88 89 90 91 92 93 94 95 96 97 98 \n",
      "99 100 101 102 103 104 105 106 107 108 109 110 111 112 \n",
      "113 114 115 116 117 118 119 120 121 122 123 124 125 126 \n",
      "127 128 129 130 131 132 133 134 135 136 137 138 139 140 \n",
      "141 142 143 144 145 146 147 148 149 150 151 152 153 154 \n",
      "155 156 157 158 159 160 161 162 163 164 165 166 167 168 \n",
      "169 170 171 172 173 174 175 176 177 178 179 180 181 182 \n",
      "183 184 185 186 187 188 189 190 191 192 193 194 195 196 \n",
      "197 198 199 200 201 202 203 204 205 206 207 208 209 210 \n",
      "211 212 213 214 215 216 217 218 219 220 221 222 223 224 \n",
      "225 226 227 228 229 230 231 232 233 234 235 236 237 238 \n",
      "239 240 241 242 243 244 245 246 247 248 249 250 251 252 \n",
      "253 254 255 256 257 258 259 260 261 262 263 264 265 266 \n",
      "267 268 269 270 271 272 273 274 275 276 277 278 279 280 \n",
      "281 282 283 284 285 286 287 288 289 290 291 292 293 294 \n",
      "295 296 297 298 299 300 301 302 303 304 305 306 307 308 \n",
      "309 310 311 312 313 314 315 316 317 318 319 320 321 322 \n",
      "323 324 325 326 327 328 329 330 331 332 333 334 335 336 \n",
      "337 338 339 340 341 342 343 344 345 346 347 348 349 350 \n",
      "351 352 353 354 355 356 357 358 359 360 361 362 363 364 \n",
      "365 366 367 368 369 370 371 372 373 374 375 376 377 378 \n",
      "379 380 381 382 383 384 385 386 387 388 389 390 391 392 \n",
      "393 394 395 396 397 398 399 400 401 402 403 404 405 406 \n",
      "407 408 409 410 411 412 413 414 415 416 417 418 419 420 \n",
      "421 422 423 424 425 426 427 428 429 430 431 432 433 434 \n",
      "435 436 437 438 439 440 441 442 443 444 445 446 447 448 \n",
      "449 450 451 452 453 454 455 456 457 458 459 460 461 462 \n",
      "463 464 465 466 467 468 469 470 471 472 473 474 475 476 \n",
      "477 478 479 480 481 482 483 484 485 486 487 488 489 490 \n",
      "491 492 493 494 495 496 497 498 499 500 501 502 503 504 \n",
      "505 506 507 508 509 510 511 512 513 514 515 516 517 518 \n",
      "519 520 521 522 523 524 525 526 527 528 529 530 531 532 \n",
      "533 534 535 536 537 538 539 540 541 542 543 544 545 546 \n",
      "547 548 549 550 551 552 553 554 555 556 557 558 559 560 \n",
      "561 562 563 564 565 566 567 568 569 570 571 572 573 574 \n",
      "575 576 577 578 579 580 581 582 583 584 585 586 587 588 \n",
      "589 590 591 592 593 594 595 596 597 598 599 600 601 602 \n",
      "603 604 605 606 607 608 609 610 611 612 613 614 615 616 \n",
      "617 618 619 620 621 622 623 624 625 626 627 628 629 630 \n",
      "631 632 633 634 635 636 637 638 639 640 641 642 643 644 \n",
      "645 646 647 648 649 650 651 652 653 654 655 656 657 658 \n",
      "659 660 661 662 663 664 665 666 667 668 669 670 671 672 \n",
      "673 674 675 676 677 678 679 680 681 682 683 684 685 686 \n",
      "687 688 689 690 691 692 693 694 695 696 697 698 699 700 "
     ]
    }
   ],
   "source": [
    "k=1\n",
    "\n",
    "for i in range(51,101):\n",
    "    print()\n",
    "    for j in range(1,15):\n",
    "        img_root = './image/check/'+str(i)+'-'+str(j)+'.jpg'\n",
    "\n",
    "        img = cv2.imread(img_root)\n",
    "        gray = cv2.cvtColor(img, cv2.COLOR_BGR2GRAY)\n",
    "        faces = face_cascade.detectMultiScale(gray, 1.3,5)\n",
    "        \n",
    "        print(k,end=' ')\n",
    "        k+=1\n",
    "        try:\n",
    "            for (x,y,w,h) in faces:\n",
    "                cv2.rectangle(img, (x,y), (x+w, y+h), (255,0,0),2)\n",
    "                cropped = img[y :y + h , x :x + w ]\n",
    "\n",
    "                roi_gray = gray[y:y+h, x:x+w]\n",
    "                roi_color = img[y:y+h, x:x+w]\n",
    "\n",
    "                eyes = eye1_cascade.detectMultiScale(gray)\n",
    "                \n",
    "                ex1,ey1,ew1,eh1 = eyes[0]\n",
    "                ex2,ey2,ew2,eh2 = eyes[1]\n",
    "\n",
    "                cropped = img[min(ey1,ey2):max(ey1+eh1,ey2+eh2), min(ex1,ex2):max(ex1+ew1,ex2+ew2)]\n",
    "                img_save = './image/check_2/'+str(i)+'-'+str(j)+'.png'\n",
    "                cv2.imwrite(img_save, cropped)\n",
    "        except:\n",
    "            pass\n"
   ]
  },
  {
   "cell_type": "code",
   "execution_count": 146,
   "metadata": {},
   "outputs": [],
   "source": [
    "cv2.imshow('Image view', img)\n",
    "cv2.waitKey(0)\n",
    "cv2.destroyAllWindows()\n"
   ]
  },
  {
   "cell_type": "code",
   "execution_count": 28,
   "metadata": {},
   "outputs": [
    {
     "name": "stdout",
     "output_type": "stream",
     "text": [
      "\n",
      "1 2 3 4 5 6 7 8 9 10 11 12 13 14 \n",
      "15 16 17 18 19 20 21 22 23 24 25 26 27 28 \n",
      "29 30 31 32 33 34 35 36 37 38 39 40 41 42 \n",
      "43 44 45 46 47 48 49 50 51 52 53 54 55 56 \n",
      "57 58 59 60 61 62 63 64 65 66 67 68 69 70 \n",
      "71 72 73 74 75 76 77 78 79 80 81 82 83 84 \n",
      "85 86 87 88 89 90 91 92 93 94 95 96 97 98 \n",
      "99 100 101 102 103 104 105 106 107 108 109 110 111 112 \n",
      "113 114 115 116 117 118 119 120 121 122 123 124 125 126 \n",
      "127 128 129 130 131 132 133 134 135 136 137 138 139 140 \n",
      "141 142 143 144 145 146 147 148 149 150 151 152 153 154 \n",
      "155 156 157 158 159 160 161 162 163 164 165 166 167 168 \n",
      "169 170 171 172 173 174 175 176 177 178 179 180 181 182 \n",
      "183 184 185 186 187 188 189 190 191 192 193 194 195 196 \n",
      "197 198 199 200 201 202 203 204 205 206 207 208 209 210 \n",
      "211 212 213 214 215 216 217 218 219 220 221 222 223 224 \n",
      "225 226 227 228 229 230 231 232 233 234 235 236 237 238 \n",
      "239 240 241 242 243 244 245 246 247 248 249 250 251 252 \n",
      "253 254 255 256 257 258 259 260 261 262 263 264 265 266 \n",
      "267 268 269 270 271 272 273 274 275 276 277 278 279 280 \n",
      "281 282 283 284 285 286 287 288 289 290 291 292 293 294 \n",
      "295 296 297 298 299 300 301 302 303 304 305 306 307 308 \n",
      "309 310 311 312 313 314 315 316 317 318 319 320 321 322 \n",
      "323 324 325 326 327 328 329 330 331 332 333 334 335 336 \n",
      "337 338 339 340 341 342 343 344 345 346 347 348 349 350 \n",
      "351 352 353 354 355 356 357 358 359 360 361 362 363 364 \n",
      "365 366 367 368 369 370 371 372 373 374 375 376 377 378 \n",
      "379 380 381 382 383 384 385 386 387 388 389 390 391 392 \n",
      "393 394 395 396 397 398 399 400 401 402 403 404 405 406 \n",
      "407 408 409 410 411 412 413 414 415 416 417 418 419 420 \n",
      "421 422 423 424 425 426 427 428 429 430 431 432 433 434 \n",
      "435 436 437 438 439 440 441 442 443 444 445 446 447 448 \n",
      "449 450 451 452 453 454 455 456 457 458 459 460 461 462 \n",
      "463 464 465 466 467 468 469 470 471 472 473 474 475 476 \n",
      "477 478 479 480 481 482 483 484 485 486 487 488 489 490 \n",
      "491 492 493 494 495 496 497 498 499 500 501 502 503 504 \n",
      "505 506 507 508 509 510 511 512 513 514 515 516 517 518 \n",
      "519 520 521 522 523 524 525 526 527 528 529 530 531 532 \n",
      "533 534 535 536 537 538 539 540 541 542 543 544 545 546 \n",
      "547 548 549 550 551 552 553 554 555 556 557 558 559 560 \n",
      "561 562 563 564 565 566 567 568 569 570 571 572 573 574 \n",
      "575 576 577 578 579 580 581 582 583 584 585 586 587 588 \n",
      "589 590 591 592 593 594 595 596 597 598 599 600 601 602 \n",
      "603 604 605 606 607 608 609 610 611 612 613 614 615 616 \n",
      "617 618 619 620 621 622 623 624 625 626 627 628 629 630 \n",
      "631 632 633 634 635 636 637 638 639 640 641 642 643 644 \n",
      "645 646 647 648 649 650 651 652 653 654 655 656 657 658 \n",
      "659 660 661 662 663 664 665 666 667 668 669 670 671 672 \n",
      "673 674 675 676 677 678 679 680 681 682 683 684 685 686 \n",
      "687 688 689 690 691 692 693 694 695 696 697 698 699 700 "
     ]
    }
   ],
   "source": [
    "k=1\n",
    "\n",
    "for i in range(51,101):\n",
    "    print()\n",
    "    for j in range(1,15):\n",
    "        img_root = './image/check/'+str(i)+'-'+str(j)+'.jpg'\n",
    "\n",
    "        img = cv2.imread(img_root)\n",
    "        gray = cv2.cvtColor(img, cv2.COLOR_BGR2GRAY)\n",
    "        faces = face_cascade.detectMultiScale(gray, 1.3,5)\n",
    "\n",
    "        print(k,end=' ')\n",
    "        k+=1\n",
    "\n",
    "        try:\n",
    "            for (x,y,w,h) in faces:\n",
    "                cv2.rectangle(img, (x,y), (x+w, y+h), (255,0,0),2)\n",
    "\n",
    "                roi_gray = gray[y:y+h, x:x+w]\n",
    "                roi_color = img[y:y+h, x:x+w]\n",
    "                eyes = eye_casecade.detectMultiScale(roi_gray)\n",
    "                for (ex, ey, ew, eh) in eyes:\n",
    "                    cv2.rectangle(img, (ex,ey), (ex+ew, ey+eh),(255,0,0),2)\n",
    "                       \n",
    "                cropped = img[y :y + h , x :x + w]\n",
    "                img_save = './image/check_1/'+str(i)+'-'+str(j)+'.png'\n",
    "                cv2.imwrite(img_save, cropped)                    \n",
    "        except:\n",
    "            pass\n"
   ]
  },
  {
   "cell_type": "code",
   "execution_count": 29,
   "metadata": {},
   "outputs": [
    {
     "name": "stdout",
     "output_type": "stream",
     "text": [
      "\n"
     ]
    },
    {
     "ename": "error",
     "evalue": "OpenCV(4.1.1) C:\\projects\\opencv-python\\opencv\\modules\\imgproc\\src\\color.cpp:182: error: (-215:Assertion failed) !_src.empty() in function 'cv::cvtColor'\n",
     "output_type": "error",
     "traceback": [
      "\u001b[1;31m---------------------------------------------------------------------------\u001b[0m",
      "\u001b[1;31merror\u001b[0m                                     Traceback (most recent call last)",
      "\u001b[1;32m<ipython-input-29-23ef0b5de5fa>\u001b[0m in \u001b[0;36m<module>\u001b[1;34m\u001b[0m\n\u001b[0;32m      7\u001b[0m \u001b[1;33m\u001b[0m\u001b[0m\n\u001b[0;32m      8\u001b[0m         \u001b[0mimg\u001b[0m \u001b[1;33m=\u001b[0m \u001b[0mcv2\u001b[0m\u001b[1;33m.\u001b[0m\u001b[0mimread\u001b[0m\u001b[1;33m(\u001b[0m\u001b[0mimg_root\u001b[0m\u001b[1;33m)\u001b[0m\u001b[1;33m\u001b[0m\u001b[1;33m\u001b[0m\u001b[0m\n\u001b[1;32m----> 9\u001b[1;33m         \u001b[0mgray\u001b[0m \u001b[1;33m=\u001b[0m \u001b[0mcv2\u001b[0m\u001b[1;33m.\u001b[0m\u001b[0mcvtColor\u001b[0m\u001b[1;33m(\u001b[0m\u001b[0mimg\u001b[0m\u001b[1;33m,\u001b[0m \u001b[0mcv2\u001b[0m\u001b[1;33m.\u001b[0m\u001b[0mCOLOR_BGR2GRAY\u001b[0m\u001b[1;33m)\u001b[0m\u001b[1;33m\u001b[0m\u001b[1;33m\u001b[0m\u001b[0m\n\u001b[0m\u001b[0;32m     10\u001b[0m         \u001b[0mfaces\u001b[0m \u001b[1;33m=\u001b[0m \u001b[0mface_cascade\u001b[0m\u001b[1;33m.\u001b[0m\u001b[0mdetectMultiScale\u001b[0m\u001b[1;33m(\u001b[0m\u001b[0mgray\u001b[0m\u001b[1;33m,\u001b[0m \u001b[1;36m1.3\u001b[0m\u001b[1;33m,\u001b[0m\u001b[1;36m5\u001b[0m\u001b[1;33m)\u001b[0m\u001b[1;33m\u001b[0m\u001b[1;33m\u001b[0m\u001b[0m\n\u001b[0;32m     11\u001b[0m \u001b[1;33m\u001b[0m\u001b[0m\n",
      "\u001b[1;31merror\u001b[0m: OpenCV(4.1.1) C:\\projects\\opencv-python\\opencv\\modules\\imgproc\\src\\color.cpp:182: error: (-215:Assertion failed) !_src.empty() in function 'cv::cvtColor'\n"
     ]
    }
   ],
   "source": [
    "k=1\n",
    "\n",
    "for i in range(51,101):\n",
    "    print()\n",
    "    for j in range(1,15):\n",
    "        img_root = './image/check_1/'+str(i)+'-'+str(j)+'.jpg'\n",
    "\n",
    "        img = cv2.imread(img_root)\n",
    "        gray = cv2.cvtColor(img, cv2.COLOR_BGR2GRAY)\n",
    "        faces = face_cascade.detectMultiScale(gray, 1.3,5)\n",
    "        \n",
    "        print(k,end=' ')\n",
    "        k+=1\n",
    "        try:\n",
    "            for (x,y,w,h) in faces:\n",
    "                cv2.rectangle(img, (x,y), (x+w, y+h), (255,0,0),2)\n",
    "                cropped = img[y :y + h , x :x + w ]\n",
    "\n",
    "                roi_gray = gray[y:y+h, x:x+w]\n",
    "                roi_color = img[y:y+h, x:x+w]\n",
    "\n",
    "                eyes = eye1_cascade.detectMultiScale(gray)\n",
    "                \n",
    "                ex1,ey1,ew1,eh1 = eyes[0]\n",
    "                ex2,ey2,ew2,eh2 = eyes[1]\n",
    "\n",
    "                cropped = img[min(ey1,ey2):max(ey1+eh1,ey2+eh2), min(ex1,ex2):max(ex1+ew1,ex2+ew2)]\n",
    "                img_save = './image/check_2/'+str(i)+'-'+str(j)+'.png'\n",
    "                cv2.imwrite(img_save, cropped)\n",
    "        except:\n",
    "            pass\n"
   ]
  },
  {
   "cell_type": "code",
   "execution_count": null,
   "metadata": {},
   "outputs": [],
   "source": []
  },
  {
   "cell_type": "code",
   "execution_count": null,
   "metadata": {},
   "outputs": [],
   "source": []
  },
  {
   "cell_type": "code",
   "execution_count": null,
   "metadata": {},
   "outputs": [],
   "source": []
  },
  {
   "cell_type": "code",
   "execution_count": null,
   "metadata": {},
   "outputs": [],
   "source": []
  },
  {
   "cell_type": "code",
   "execution_count": null,
   "metadata": {},
   "outputs": [],
   "source": []
  },
  {
   "cell_type": "code",
   "execution_count": null,
   "metadata": {},
   "outputs": [],
   "source": []
  },
  {
   "cell_type": "code",
   "execution_count": null,
   "metadata": {},
   "outputs": [],
   "source": []
  },
  {
   "cell_type": "code",
   "execution_count": null,
   "metadata": {},
   "outputs": [],
   "source": []
  },
  {
   "cell_type": "code",
   "execution_count": null,
   "metadata": {},
   "outputs": [],
   "source": []
  },
  {
   "cell_type": "code",
   "execution_count": null,
   "metadata": {},
   "outputs": [],
   "source": []
  },
  {
   "cell_type": "code",
   "execution_count": null,
   "metadata": {},
   "outputs": [],
   "source": []
  },
  {
   "cell_type": "code",
   "execution_count": null,
   "metadata": {},
   "outputs": [],
   "source": []
  },
  {
   "cell_type": "code",
   "execution_count": null,
   "metadata": {},
   "outputs": [],
   "source": []
  },
  {
   "cell_type": "code",
   "execution_count": null,
   "metadata": {},
   "outputs": [],
   "source": []
  },
  {
   "cell_type": "code",
   "execution_count": null,
   "metadata": {},
   "outputs": [],
   "source": []
  },
  {
   "cell_type": "code",
   "execution_count": null,
   "metadata": {},
   "outputs": [],
   "source": []
  },
  {
   "cell_type": "code",
   "execution_count": null,
   "metadata": {},
   "outputs": [],
   "source": []
  },
  {
   "cell_type": "code",
   "execution_count": null,
   "metadata": {},
   "outputs": [],
   "source": []
  },
  {
   "cell_type": "code",
   "execution_count": null,
   "metadata": {},
   "outputs": [],
   "source": []
  },
  {
   "cell_type": "code",
   "execution_count": null,
   "metadata": {},
   "outputs": [],
   "source": []
  },
  {
   "cell_type": "code",
   "execution_count": null,
   "metadata": {},
   "outputs": [],
   "source": []
  },
  {
   "cell_type": "code",
   "execution_count": null,
   "metadata": {},
   "outputs": [],
   "source": []
  },
  {
   "cell_type": "code",
   "execution_count": null,
   "metadata": {},
   "outputs": [],
   "source": []
  },
  {
   "cell_type": "code",
   "execution_count": null,
   "metadata": {},
   "outputs": [],
   "source": []
  },
  {
   "cell_type": "code",
   "execution_count": null,
   "metadata": {},
   "outputs": [],
   "source": []
  },
  {
   "cell_type": "code",
   "execution_count": null,
   "metadata": {},
   "outputs": [],
   "source": []
  },
  {
   "cell_type": "code",
   "execution_count": null,
   "metadata": {},
   "outputs": [],
   "source": []
  },
  {
   "cell_type": "code",
   "execution_count": null,
   "metadata": {},
   "outputs": [],
   "source": []
  },
  {
   "cell_type": "code",
   "execution_count": null,
   "metadata": {},
   "outputs": [],
   "source": []
  },
  {
   "cell_type": "code",
   "execution_count": null,
   "metadata": {},
   "outputs": [],
   "source": []
  },
  {
   "cell_type": "code",
   "execution_count": null,
   "metadata": {},
   "outputs": [],
   "source": []
  }
 ],
 "metadata": {
  "kernelspec": {
   "display_name": "Python 3",
   "language": "python",
   "name": "python3"
  },
  "language_info": {
   "codemirror_mode": {
    "name": "ipython",
    "version": 3
   },
   "file_extension": ".py",
   "mimetype": "text/x-python",
   "name": "python",
   "nbconvert_exporter": "python",
   "pygments_lexer": "ipython3",
   "version": "3.7.3"
  }
 },
 "nbformat": 4,
 "nbformat_minor": 2
}
